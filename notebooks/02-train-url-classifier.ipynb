{
 "cells": [
  {
   "cell_type": "code",
   "execution_count": 23,
   "id": "e4add3fe",
   "metadata": {},
   "outputs": [
    {
     "name": "stdout",
     "output_type": "stream",
     "text": [
      "              precision    recall  f1-score   support\n",
      "\n",
      "           0       0.67      1.00      0.80         2\n",
      "           1       1.00      0.67      0.80         3\n",
      "\n",
      "    accuracy                           0.80         5\n",
      "   macro avg       0.83      0.83      0.80         5\n",
      "weighted avg       0.87      0.80      0.80         5\n",
      "\n",
      "✅ Model saved to: c:\\Users\\Kamad\\phishnet_defender\\models\\url_model.pkl\n"
     ]
    }
   ],
   "source": [
    "import sys\n",
    "import os\n",
    "import joblib\n",
    "sys.path.append(os.path.abspath(\"../src\"))\n",
    "\n",
    "from url_model import prepare_url_data, train_url_model\n",
    "\n",
    "urls = [\n",
    "    # Phishing\n",
    "    \"https://paypal.com-login.secure-verify.net\",\n",
    "    \"http://192.168.1.1/login\",\n",
    "    \"https://tinyurl.com/secure-access\",\n",
    "    \"https://verify-apple.com-reset-password.co\",\n",
    "    \"https://login-instagram-help.com\",\n",
    "    \"https://secure.amaz0n-login.info\",\n",
    "    \"https://plala.voxel6.com/login\",\n",
    "    \"https://jaergfv3.duckdns.org/\",\n",
    "    \"http://secure-apple-login.com\",\n",
    "    \"http://amaz0n-support-mail.ru\",\n",
    "    \"http://login-verify-instagram-help.info\",\n",
    "\n",
    "    # Legit\n",
    "    \"https://www.google.com/\",\n",
    "    \"https://www.apple.com/\",\n",
    "    \"https://www.amazon.com/\",\n",
    "    \"https://www.microsoft.com/\",\n",
    "    \"https://www.linkedin.com/\",\n",
    "    \"https://www.github.com/\",\n",
    "    \"https://www.stackoverflow.com/\",\n",
    "    \"https://www.reddit.com/\",\n",
    "    \"https://www.python.org/\",\n",
    "    \"https://www.nytimes.com/\",\n",
    "    \"https://docs.aws.amazon.com/\"\n",
    "]\n",
    "\n",
    "labels = [1]*11 + [0]*11  # Total = 22\n",
    "\n",
    "# === Prepare features and train model ===\n",
    "df = prepare_url_data(urls, labels)\n",
    "model = train_url_model(df)\n",
    "\n",
    "# === Save model ===\n",
    "def save_url_model(model, path=None):\n",
    "    if path is None:\n",
    "        base_dir = os.path.abspath(os.path.join(os.getcwd(), \"..\"))\n",
    "        path = os.path.join(base_dir, \"models\", \"url_model.pkl\")\n",
    "    os.makedirs(os.path.dirname(path), exist_ok=True)\n",
    "    joblib.dump(model, path)\n",
    "    print(f\"✅ Model saved to: {path}\")\n",
    "\n",
    "# === Call the function ===\n",
    "save_url_model(model)\n"
   ]
  }
 ],
 "metadata": {
  "kernelspec": {
   "display_name": "venv",
   "language": "python",
   "name": "python3"
  },
  "language_info": {
   "codemirror_mode": {
    "name": "ipython",
    "version": 3
   },
   "file_extension": ".py",
   "mimetype": "text/x-python",
   "name": "python",
   "nbconvert_exporter": "python",
   "pygments_lexer": "ipython3",
   "version": "3.11.9"
  }
 },
 "nbformat": 4,
 "nbformat_minor": 5
}
